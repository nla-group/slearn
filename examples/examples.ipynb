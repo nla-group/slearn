{
 "cells": [
  {
   "cell_type": "code",
   "execution_count": 1,
   "id": "15e28a65-87d1-4dbf-bdd3-a9abae4566cc",
   "metadata": {},
   "outputs": [
    {
     "name": "stdout",
     "output_type": "stream",
     "text": [
      "  nr_symbols LZW_complexity length     string\n",
      "0          3              4      4       ACBA\n",
      "1          3              9      9  CBAABCACC\n"
     ]
    }
   ],
   "source": [
    "from slearn import *\n",
    "df_strings = lzw_string_library(symbols=3, complexity=[4, 9], random_state=0)\n",
    "print(df_strings)"
   ]
  },
  {
   "cell_type": "code",
   "execution_count": 2,
   "id": "9b237f2b-dc7c-43f1-98ea-1b33245bc86d",
   "metadata": {},
   "outputs": [
    {
     "name": "stdout",
     "output_type": "stream",
     "text": [
      "SAX reconstructed length: 100\n",
      "SAX-TD reconstructed length: 100\n",
      "eSAX reconstructed length: 100\n",
      "mSAX reconstructed length: 100\n",
      "aSAX segment_sizes: [ 7 23  7  6 14  8  6 14  9  6], Sum: 100\n",
      "aSAX segment_bounds: [  0   7  30  37  43  57  65  71  85  94 100]\n",
      "aSAX reconstructed length: 100\n"
     ]
    }
   ],
   "source": [
    "from slearn.symbols import *\n",
    "\n",
    "\n",
    "def test_sax_variant(model, ts, t, name, is_multivariate=False):\n",
    "    symbols = model.fit_transform(ts)\n",
    "    recon = model.inverse_transform()\n",
    "    print(f\"{name} reconstructed length: {len(recon)}\")\n",
    "    rmse = np.sqrt(np.mean((ts - recon) ** 2))\n",
    "    return rmse\n",
    "\n",
    "# Generate test time series\n",
    "np.random.seed(42)\n",
    "t = np.linspace(0, 10, 100)\n",
    "ts = np.sin(t) + np.random.normal(0, 0.1, 100)  # Univariate, main test\n",
    "ts_multi = np.vstack([np.sin(t), np.cos(t)]).T + np.random.normal(0, 0.1, (100, 2))  # Multivariate\n",
    "\n",
    "\n",
    "sax = SAX(window_size=10, alphabet_size=8)\n",
    "rmse = test_sax_variant(sax, ts, t, \"SAX\")\n",
    "\n",
    "\n",
    "saxtd = SAXTD(window_size=10, alphabet_size=8)\n",
    "rmse = test_sax_variant(saxtd, ts, t, \"SAX-TD\")\n",
    "\n",
    "    \n",
    "esax = ESAX(window_size=10, alphabet_size=8)\n",
    "rmse = test_sax_variant(esax, ts, t, \"eSAX\")\n",
    "\n",
    "    \n",
    "msax = MSAX(window_size=10, alphabet_size=8)\n",
    "rmse = test_sax_variant(msax, ts_multi, t, \"mSAX\", is_multivariate=True)\n",
    "\n",
    "    \n",
    "asax = ASAX(n_segments=10, alphabet_size=8)\n",
    "rmse = test_sax_variant(asax, ts, t, \"aSAX\")"
   ]
  },
  {
   "cell_type": "code",
   "execution_count": 3,
   "id": "d9f25762-340e-48d2-91d9-20651387c3da",
   "metadata": {},
   "outputs": [
    {
     "name": "stdout",
     "output_type": "stream",
     "text": [
      "1\n",
      "0.9611111111111111\n"
     ]
    }
   ],
   "source": [
    "from slearn.dmetric import *\n",
    "\n",
    "print(damerau_levenshtein_distance(\"cat\", \"act\"))\n",
    "print(jaro_winkler_distance(\"martha\", \"marhta\"))"
   ]
  },
  {
   "cell_type": "code",
   "execution_count": null,
   "id": "fdba1e1d-488d-4990-b3ea-0d99cd873744",
   "metadata": {},
   "outputs": [],
   "source": []
  }
 ],
 "metadata": {
  "kernelspec": {
   "display_name": "Python 3 (ipykernel)",
   "language": "python",
   "name": "python3"
  },
  "language_info": {
   "codemirror_mode": {
    "name": "ipython",
    "version": 3
   },
   "file_extension": ".py",
   "mimetype": "text/x-python",
   "name": "python",
   "nbconvert_exporter": "python",
   "pygments_lexer": "ipython3",
   "version": "3.12.7"
  }
 },
 "nbformat": 4,
 "nbformat_minor": 5
}
