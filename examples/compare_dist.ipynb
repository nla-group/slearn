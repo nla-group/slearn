{
 "cells": [
  {
   "cell_type": "code",
   "execution_count": 2,
   "id": "d05c1b4f-6c26-4d54-b3f1-7f0a5574f30e",
   "metadata": {},
   "outputs": [
    {
     "name": "stdout",
     "output_type": "stream",
     "text": [
      "1\n",
      "0.9611111111111111\n",
      "0.3333333333333333\n",
      "0.9611111111111111\n"
     ]
    }
   ],
   "source": [
    "from slearn.dmetric import *\n",
    "\n",
    "print(damerau_levenshtein_distance(\"cat\", \"act\"))\n",
    "print(jaro_winkler_distance(\"martha\", \"marhta\"))\n",
    "\n",
    "print(normalized_damerau_levenshtein_distance(\"cat\", \"act\"))\n",
    "print(normalized_jaro_winkler_distance(\"martha\", \"marhta\"))"
   ]
  },
  {
   "cell_type": "code",
   "execution_count": 3,
   "id": "827dc6ec-e777-4a90-b21d-7dd6a4fe8552",
   "metadata": {},
   "outputs": [
    {
     "name": "stdout",
     "output_type": "stream",
     "text": [
      "1\n",
      "0.9611111111111111\n",
      "0.3333333333333333\n",
      "0.9611111111111111\n"
     ]
    }
   ],
   "source": [
    "import textdistance\n",
    "\n",
    "# Damerau-Levenshtein distance\n",
    "print(textdistance.damerau_levenshtein(\"cat\", \"act\"))\n",
    "\n",
    "# Jaro-Winkler distance\n",
    "print(textdistance.jaro_winkler(\"martha\", \"marhta\"))\n",
    "\n",
    "# Normalized Damerau-Levenshtein distance\n",
    "print(textdistance.damerau_levenshtein.normalized_distance(\"cat\", \"act\"))\n",
    "\n",
    "# Normalized Jaro-Winkler distance\n",
    "print(textdistance.jaro_winkler.normalized_similarity(\"martha\", \"marhta\"))"
   ]
  },
  {
   "cell_type": "code",
   "execution_count": null,
   "id": "d58e6893-2a8a-4823-ab41-f099861339ce",
   "metadata": {},
   "outputs": [],
   "source": []
  },
  {
   "cell_type": "code",
   "execution_count": null,
   "id": "d5525319-ee39-4192-b24d-eb9e033553c6",
   "metadata": {},
   "outputs": [],
   "source": []
  },
  {
   "cell_type": "code",
   "execution_count": null,
   "id": "fed06208-d29d-46b5-b86f-89320d75a556",
   "metadata": {},
   "outputs": [],
   "source": []
  }
 ],
 "metadata": {
  "kernelspec": {
   "display_name": "Python 3 (ipykernel)",
   "language": "python",
   "name": "python3"
  },
  "language_info": {
   "codemirror_mode": {
    "name": "ipython",
    "version": 3
   },
   "file_extension": ".py",
   "mimetype": "text/x-python",
   "name": "python",
   "nbconvert_exporter": "python",
   "pygments_lexer": "ipython3",
   "version": "3.12.7"
  }
 },
 "nbformat": 4,
 "nbformat_minor": 5
}
